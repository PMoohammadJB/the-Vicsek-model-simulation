{
  "cells": [
    {
      "cell_type": "code",
      "source": [
        "import numpy as np\n",
        "import random as rd\n",
        "import secrets as st\n",
        "import matplotlib.pyplot as plt\n",
        "from matplotlib.animation import FuncAnimation, FFMpegWriter\n",
        "import math"
      ],
      "metadata": {
        "id": "ccDo454nhKk0"
      },
      "execution_count": 32,
      "outputs": []
    },
    {
      "cell_type": "markdown",
      "source": [
        "**simulation**"
      ],
      "metadata": {
        "id": "2mI_gsLrhMJD"
      }
    },
    {
      "cell_type": "code",
      "execution_count": 33,
      "metadata": {
        "id": "x2-LvVMBgk5Y"
      },
      "outputs": [],
      "source": [
        "time_step = 1\n",
        "def initialize() :\n",
        "    global N, L, x_positions, y_positions, directions, order_parameters\n",
        "    x_positions = [ [rd.uniform(0, L) for _ in range(N)] ]\n",
        "    y_positions = [ [rd.uniform(0, L) for _ in range(N)] ]\n",
        "    directions = [ [rd.uniform(0, 2*np.pi) for _ in range(N)] ]\n",
        "\n",
        "    #order parameter\n",
        "    v_xs = np.cos(directions[-1])\n",
        "    v_ys = np.sin(directions[-1])\n",
        "    order_parameter = ( np.mean(v_xs)**2 + np.mean(v_ys)**2 )**0.5\n",
        "    order_parameters = [order_parameter]\n",
        "\n",
        "def update() :\n",
        "    global R, v, etta, new_xs, new_ys, new_dirs, order_parameter\n",
        "    xs = x_positions[-1]\n",
        "    ys = y_positions[-1]\n",
        "    v_xs = v*np.cos(directions[-1])\n",
        "    v_ys = v*np.sin(directions[-1])\n",
        "    #positions update\n",
        "    new_xs = [ (xs[n] + time_step*v_xs[n])%L for n in range(N) ]\n",
        "    new_ys = [ (ys[n] + time_step*v_ys[n])%L for n in range(N) ]\n",
        "    #direction update\n",
        "    new_dirs = []\n",
        "    for n in range(N) :\n",
        "        n_neighbors_vx = []\n",
        "        n_neighbors_vy = []\n",
        "        for j in range(N) :\n",
        "            dx = min( xs[n]-xs[j], L-(xs[n]-xs[j]) )\n",
        "            dy = min( ys[n]-ys[j], L-(ys[n]-ys[j]) )\n",
        "            if (dx**2 + dy**2)**0.5 < R :\n",
        "                n_neighbors_vx.append(v_xs[j])\n",
        "                n_neighbors_vy.append(v_ys[j])\n",
        "        n_neighbors_mean_vx = np.mean(n_neighbors_vx)\n",
        "        n_neighbors_mean_vy = np.mean(n_neighbors_vy)\n",
        "        if not n_neighbors_mean_vx == 0 :\n",
        "          new_dir = math.atan2( n_neighbors_mean_vy, n_neighbors_mean_vx ) + rd.uniform(-etta/2, etta/2)\n",
        "        new_dirs.append(new_dir)\n",
        "    #order parameter\n",
        "    v_xs = np.cos(directions[-1])\n",
        "    v_ys = np.sin(directions[-1])\n",
        "    order_parameter = ( np.mean(v_xs)**2 + np.mean(v_ys)**2 )**0.5\n",
        "\n",
        "def observe() :\n",
        "  x_positions.append(new_xs)\n",
        "  y_positions.append(new_ys)\n",
        "  directions.append(new_dirs)\n",
        "  order_parameters.append(order_parameter)"
      ]
    },
    {
      "cell_type": "markdown",
      "source": [
        "**running**"
      ],
      "metadata": {
        "id": "3tPf297qhhpB"
      }
    },
    {
      "cell_type": "code",
      "source": [
        "N = 200\n",
        "L = 5\n",
        "v = 0.3\n",
        "R = 1\n",
        "etta = 0.5\n",
        "\n",
        "def run_simulation() :\n",
        "  global T\n",
        "  update()\n",
        "  observe()\n",
        "  print(T)\n",
        "  T+=1"
      ],
      "metadata": {
        "id": "U-EcOmYghpGm"
      },
      "execution_count": 34,
      "outputs": []
    },
    {
      "cell_type": "code",
      "source": [
        "T = 0\n",
        "initialize()\n",
        "for _ in range(10) :\n",
        "  run_simulation()\n",
        "\n",
        "while True :\n",
        "  run_simulation()\n",
        "  List = order_parameters[-10:]\n",
        "  if ( max(List) - min(List) ) < 0.01 :\n",
        "    break\n",
        "\n",
        "for _ in range(10) :\n",
        "  run_simulation()\n",
        "  List = order_parameters[-10:]\n",
        "  if ( max(List) - min(List) ) < 0.01 :\n",
        "    break\n",
        "\n",
        "plt.plot([t for t in range(len(order_parameters))], order_parameters)\n",
        "plt.show()\n",
        "\n",
        "# animation\n",
        "fig, ax = plt.subplots()\n",
        "ax.set_xlim(0, L)\n",
        "ax.set_ylim(0, L)\n",
        "quiver = ax.quiver(x_positions[0], y_positions[0],\n",
        "    np.cos(directions[0]), np.sin(directions[0]),\n",
        "    color='blue', scale=20, width=0.005)\n",
        "\n",
        "def update0(frame):\n",
        "    quiver.set_offsets(np.column_stack((x_positions[frame], y_positions[frame])))\n",
        "    quiver.set_UVC(np.cos(directions[frame]), np.sin(directions[frame]))\n",
        "    return quiver,\n",
        "\n",
        "ani = FuncAnimation(fig, update0, frames=T, interval=300, blit=True)\n",
        "ax.set_title(f\"N={N}   L={L}   v={v}   R={R}   etta={etta}   T={T}\")\n",
        "ani.save(\"animation_Vicsek.mp4\")"
      ],
      "metadata": {
        "id": "yai43RW4hb7q"
      },
      "execution_count": null,
      "outputs": []
    }
  ],
  "metadata": {
    "colab": {
      "provenance": []
    },
    "kernelspec": {
      "display_name": "Python 3",
      "name": "python3"
    },
    "language_info": {
      "name": "python"
    }
  },
  "nbformat": 4,
  "nbformat_minor": 0
}